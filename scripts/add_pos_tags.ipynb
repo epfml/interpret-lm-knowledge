{
 "cells": [
  {
   "cell_type": "code",
   "execution_count": null,
   "metadata": {
    "colab": {
     "base_uri": "https://localhost:8080/"
    },
    "executionInfo": {
     "elapsed": 3129,
     "status": "ok",
     "timestamp": 1612983994952,
     "user": {
      "displayName": "Vinitra S",
      "photoUrl": "https://lh3.googleusercontent.com/a-/AOh14GgHuLlLe3MkmXUdXfJcyZeOFLBnYfVnAwciHa8o5A=s64",
      "userId": "10972148500940554251"
     },
     "user_tz": -60
    },
    "id": "i_LSI13Dpkno",
    "outputId": "af7bb7e8-6d12-4cbd-ddc7-23a2c41a16d4"
   },
   "outputs": [],
   "source": [
    "import nltk\n",
    "import pandas as pd\n",
    "import os\n",
    "nltk.download('punkt')\n",
    "nltk.download('averaged_perceptron_tagger')\n",
    "nltk.download('universal_tagset')"
   ]
  },
  {
   "cell_type": "code",
   "execution_count": null,
   "metadata": {
    "executionInfo": {
     "elapsed": 355,
     "status": "ok",
     "timestamp": 1612984493796,
     "user": {
      "displayName": "Vinitra S",
      "photoUrl": "https://lh3.googleusercontent.com/a-/AOh14GgHuLlLe3MkmXUdXfJcyZeOFLBnYfVnAwciHa8o5A=s64",
      "userId": "10972148500940554251"
     },
     "user_tz": -60
    },
    "id": "U29nr7owP4xl"
   },
   "outputs": [],
   "source": [
    "from collections import Counter\n",
    "def flattenListOfLists(lst):\n",
    "  result = []\n",
    "  for sublist in lst:\n",
    "      result.extend(sublist)\n",
    "  return result\n",
    "\n",
    "def compute_stats(df):\n",
    "    lst = flattenListOfLists(df['source_tag'].tolist())\n",
    "    s_counts = Counter( tag for word,  tag in lst)\n",
    "    # print(\"source tags:\", s_counts)\n",
    "    lst = flattenListOfLists(df['edge_tag'].tolist())\n",
    "    e_counts = Counter( tag for word,  tag in lst)\n",
    "    # print(\"edge tags:\", e_counts)\n",
    "    lst = flattenListOfLists(df['target_tag'].tolist())\n",
    "    t_counts = Counter( tag for word,  tag in lst)\n",
    "    # print(\"target tags:\", t_counts)\n",
    "    return s_counts, t_counts, e_counts\n",
    "\n",
    "def compare_vals(df1, df2, col):\n",
    "    matching_count = 0\n",
    "    for ind in (df1.loc[df1[col] == df2[col]].index):\n",
    "        x =  df1.loc[df1.index == ind, col].values[0]\n",
    "        y =  df2.loc[df2.index == ind, col].values[0]\n",
    "        matching_count += 1\n",
    "        \n",
    "    return matching_count / len(df1)"
   ]
  },
  {
   "cell_type": "code",
   "execution_count": null,
   "metadata": {},
   "outputs": [],
   "source": [
    "%cd ../textacy"
   ]
  },
  {
   "cell_type": "code",
   "execution_count": null,
   "metadata": {
    "colab": {
     "base_uri": "https://localhost:8080/"
    },
    "executionInfo": {
     "elapsed": 23939,
     "status": "ok",
     "timestamp": 1612986208973,
     "user": {
      "displayName": "Vinitra S",
      "photoUrl": "https://lh3.googleusercontent.com/a-/AOh14GgHuLlLe3MkmXUdXfJcyZeOFLBnYfVnAwciHa8o5A=s64",
      "userId": "10972148500940554251"
     },
     "user_tz": -60
    },
    "id": "oR7tptHLp2Ka",
    "outputId": "f0a58faa-3a5e-4bc2-e450-0501a49ce8e1"
   },
   "outputs": [],
   "source": [
    "# %cd ~/../content/drive/MyDrive/lm_experiments\n",
    "csv_names = [name for name in os.listdir() if 'kg_df.csv' in name]\n",
    "print(csv_names)\n",
    "tag_counts = {}\n",
    "accuracy = {}\n",
    "for i in range(0,len(csv_names),2):\n",
    "  name = csv_names[i]\n",
    "  df = pd.read_csv(name, index_col=0)\n",
    "  df['source_tag'] = df['source'].apply(nltk.word_tokenize).apply(nltk.pos_tag, tagset=\"universal\")\n",
    "  df['target_tag'] = df['target'].apply(nltk.word_tokenize).apply(nltk.pos_tag, tagset=\"universal\")\n",
    "  df['edge_tag'] = df['edge'].apply(nltk.word_tokenize).apply(nltk.pos_tag, tagset=\"universal\")\n",
    "  s_counts, t_counts, e_counts = compute_stats(df)\n",
    "  total_stats = s_counts + t_counts + e_counts\n",
    "  print(total_stats)\n",
    "  name_g = csv_names[i+1]\n",
    "  df2 = pd.read_csv(name_g, index_col=0)\n",
    "  df2['source_tag'] = df2['source'].apply(nltk.word_tokenize).apply(nltk.pos_tag, tagset=\"universal\")\n",
    "  df2['target_tag'] = df2['target'].apply(nltk.word_tokenize).apply(nltk.pos_tag, tagset=\"universal\")\n",
    "  df2['edge_tag'] = df2['edge'].apply(nltk.word_tokenize).apply(nltk.pos_tag, tagset=\"universal\")\n",
    "  print(name_g, name)\n",
    "  s2_counts, t2_counts, e2_counts = compute_stats(df2)\n",
    "  total_g_stats = s2_counts + t2_counts + e2_counts    \n",
    "  print(total_g_stats, total_g_stats.values())\n",
    "\n",
    "  diff = Counter({key: (round((value - (total_g_stats.get(key, 0)))*100/(total_g_stats.get(key, 0)),3) if total_g_stats.get(key, 0) != 0 else 0)  for key, value in total_stats.items()})\n",
    "  print(diff)\n",
    "  tag_counts[name] = diff\n",
    "\n",
    "import pandas as pd\n",
    "\n",
    "(pd.DataFrame.from_dict(data=tag_counts, orient='index')\n",
    "   .to_csv('percent_tag_counts.csv', header=False))"
   ]
  },
  {
   "cell_type": "code",
   "execution_count": null,
   "metadata": {},
   "outputs": [],
   "source": [
    "tag_counts"
   ]
  },
  {
   "cell_type": "code",
   "execution_count": null,
   "metadata": {
    "executionInfo": {
     "elapsed": 364,
     "status": "ok",
     "timestamp": 1612987772685,
     "user": {
      "displayName": "Vinitra S",
      "photoUrl": "https://lh3.googleusercontent.com/a-/AOh14GgHuLlLe3MkmXUdXfJcyZeOFLBnYfVnAwciHa8o5A=s64",
      "userId": "10972148500940554251"
     },
     "user_tz": -60
    },
    "id": "VioOEAHQfBxb"
   },
   "outputs": [],
   "source": [
    "df = pd.DataFrame.from_dict(tag_counts, orient='index').stack().reset_index()\n",
    "df.columns = ['file', 'POS', 'count']\n",
    "# df = df.set_index(['file'])\n",
    "df = df.pivot('file', 'POS','count')\n",
    "df.to_csv('percent_tag_counts.csv')"
   ]
  },
  {
   "cell_type": "code",
   "execution_count": null,
   "metadata": {
    "colab": {
     "base_uri": "https://localhost:8080/"
    },
    "executionInfo": {
     "elapsed": 414,
     "status": "ok",
     "timestamp": 1609865094468,
     "user": {
      "displayName": "Vinitra S",
      "photoUrl": "https://lh3.googleusercontent.com/a-/AOh14GgHuLlLe3MkmXUdXfJcyZeOFLBnYfVnAwciHa8o5A=s64",
      "userId": "10972148500940554251"
     },
     "user_tz": 480
    },
    "id": "36jCvpFXSISq",
    "outputId": "397313c7-1e88-475e-eaf4-4947d134717d"
   },
   "outputs": [],
   "source": [
    "def compare(D1, D2):\n",
    "  return Counter({key: D2.get(key, 0) - value for key, value in D1.items()})\n",
    "\n",
    "compare(tag_counts['squad_Bert_g_kg_df.csv'][0], tag_counts['squad_Bert_kg_df.csv'][0])"
   ]
  },
  {
   "cell_type": "code",
   "execution_count": null,
   "metadata": {
    "colab": {
     "base_uri": "https://localhost:8080/"
    },
    "executionInfo": {
     "elapsed": 393,
     "status": "ok",
     "timestamp": 1609865112928,
     "user": {
      "displayName": "Vinitra S",
      "photoUrl": "https://lh3.googleusercontent.com/a-/AOh14GgHuLlLe3MkmXUdXfJcyZeOFLBnYfVnAwciHa8o5A=s64",
      "userId": "10972148500940554251"
     },
     "user_tz": 480
    },
    "id": "lG39wu7mbHB9",
    "outputId": "17769442-f376-462f-f1fa-18546bb50426"
   },
   "outputs": [],
   "source": [
    "compare(tag_counts['squad_Bert_g_kg_df.csv'][1], tag_counts['squad_Bert_kg_df.csv'][1])"
   ]
  },
  {
   "cell_type": "code",
   "execution_count": null,
   "metadata": {
    "colab": {
     "base_uri": "https://localhost:8080/"
    },
    "executionInfo": {
     "elapsed": 415,
     "status": "ok",
     "timestamp": 1609867908199,
     "user": {
      "displayName": "Vinitra S",
      "photoUrl": "https://lh3.googleusercontent.com/a-/AOh14GgHuLlLe3MkmXUdXfJcyZeOFLBnYfVnAwciHa8o5A=s64",
      "userId": "10972148500940554251"
     },
     "user_tz": 480
    },
    "id": "glHxCzfjcQ05",
    "outputId": "6ac0e083-d664-4a36-e1ec-88097d24df0d"
   },
   "outputs": [],
   "source": [
    "model = 'Bert'\n",
    "dataset = 're-date-birth'\n",
    "# 0 for source, 1 for target, 2 for edge\n",
    "part_of_model = 0\n",
    "\n",
    "name = dataset + \"_\" + model + '_kg_df.csv'\n",
    "g_name = dataset + \"_\" + model + '_g_kg_df.csv'\n",
    "compare(tag_counts[g_name][part_of_model], tag_counts[name][part_of_model])"
   ]
  }
 ],
 "metadata": {
  "colab": {
   "authorship_tag": "ABX9TyM0W77HrIxorMQvh2SACduf",
   "mount_file_id": "1YlEsIE0zGZ_WWsGdU-dxkDdSsTWDjkds",
   "name": "addpos_tags.ipynb",
   "provenance": []
  },
  "kernelspec": {
   "display_name": "Python 3",
   "language": "python",
   "name": "python3"
  },
  "language_info": {
   "codemirror_mode": {
    "name": "ipython",
    "version": 3
   },
   "file_extension": ".py",
   "mimetype": "text/x-python",
   "name": "python",
   "nbconvert_exporter": "python",
   "pygments_lexer": "ipython3",
   "version": "3.8.3"
  }
 },
 "nbformat": 4,
 "nbformat_minor": 1
}
